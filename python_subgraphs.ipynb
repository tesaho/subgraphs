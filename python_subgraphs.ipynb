{
 "cells": [
  {
   "cell_type": "code",
   "execution_count": 1,
   "metadata": {},
   "outputs": [
    {
     "name": "stdout",
     "output_type": "stream",
     "text": [
      "/home/tesa/thegraph/subgraphs\n"
     ]
    }
   ],
   "source": [
    "import os\n",
    "import requests\n",
    "import json\n",
    "import pandas as pd\n"
   ]
  },
  {
   "cell_type": "markdown",
   "metadata": {},
   "source": [
    "### TheGraph Explorer\n",
    "\n",
    "To pull the query from a subgraph, you'll want to use the explorer to generate a query that you want to use and copy the api under \"Queries(HTTP)\".\n",
    "\n",
    "<img src=\"./images/thegraph_uniswapv2.png\">"
   ]
  },
  {
   "cell_type": "markdown",
   "metadata": {},
   "source": [
    "On the right hand of the page, you can click on the entity names and see the items available to query.  The query is written in **schema.graphql**. \n",
    "\n",
    "After you update the query with the fields that you are interested in, run the explorer using the purple button.\n",
    "\n",
    "<img src=\"./images/uniswapv2_runquery.png\">"
   ]
  },
  {
   "cell_type": "markdown",
   "metadata": {},
   "source": [
    "### Explorer -> Python\n",
    "\n",
    "Copy and paste the entire query into Python.  Since the format of **schema.graphql** needs to be preserved, add backslashes to the end of each line.\n",
    "\n",
    "** Note that the query is a plural \"uniswapFactories\" while the entity is a singular \"UniswapFactory\".  This goes the same for any entity ie. \"mints\" query -> \"mint\" entity, \"burns\" query -> \"burn\" entity."
   ]
  },
  {
   "cell_type": "code",
   "execution_count": 15,
   "metadata": {},
   "outputs": [],
   "source": [
    "## copy and past the url and query from the explorer\n",
    "subgraph_url = \"https://api.thegraph.com/subgraphs/name/uniswap/uniswap-v2\"\n",
    "query = \"{\\\n",
    "  uniswapFactories(first: 5) {\\\n",
    "    id\\\n",
    "    pairCount\\\n",
    "    totalVolumeUSD\\\n",
    "    mostLiquidTokens{\\\n",
    "        id\\\n",
    "    }\\\n",
    "  }\\\n",
    "}\""
   ]
  },
  {
   "cell_type": "markdown",
   "metadata": {},
   "source": [
    "### GraphQuery class\n",
    "\n",
    "The get_query function is a POST request that returns the data in a json format.  \n",
    "\n",
    "** Note that some numeric fields are returned as strings and not as floats or ints.  "
   ]
  },
  {
   "cell_type": "code",
   "execution_count": 13,
   "metadata": {},
   "outputs": [],
   "source": [
    "class GraphQuery(object):\n",
    "    def __init__(self):\n",
    "        self.data = None\n",
    "\n",
    "    def get_query(self, subgraph_url, query, variables=None):\n",
    "        \"\"\"\n",
    "        :param subgraph_url: 'https://api.thegraph.com/subgraphs/name/ppunky/hegic-v888'\n",
    "        :param query: '{options(where: {status:\"ACTIVE\"}) {id symbol}}'\n",
    "        :param variables:\n",
    "        :return:\n",
    "        \"\"\"\n",
    "        request_json = {'query': query}\n",
    "        if variables:\n",
    "            request_json['variables'] = variables\n",
    "        resp = requests.post(subgraph_url, json=request_json)\n",
    "        data = json.loads(resp.text)\n",
    "        self.data = data['data']\n",
    "        return self.data"
   ]
  },
  {
   "cell_type": "code",
   "execution_count": 16,
   "metadata": {},
   "outputs": [
    {
     "data": {
      "text/plain": [
       "{'uniswapFactories': [{'id': '0x5C69bEe701ef814a2B6a3EDD4B1652CB9cc5aA6f',\n",
       "   'mostLiquidTokens': [],\n",
       "   'pairCount': 23147,\n",
       "   'totalVolumeUSD': '35417018263.02062294114348020249348'}]}"
      ]
     },
     "execution_count": 16,
     "metadata": {},
     "output_type": "execute_result"
    }
   ],
   "source": [
    "### running the query\n",
    "gq = GraphQuery()\n",
    "data = gq.get_query(subgraph_url, query)\n",
    "data"
   ]
  },
  {
   "cell_type": "code",
   "execution_count": 17,
   "metadata": {},
   "outputs": [
    {
     "data": {
      "text/html": [
       "<div>\n",
       "<style scoped>\n",
       "    .dataframe tbody tr th:only-of-type {\n",
       "        vertical-align: middle;\n",
       "    }\n",
       "\n",
       "    .dataframe tbody tr th {\n",
       "        vertical-align: top;\n",
       "    }\n",
       "\n",
       "    .dataframe thead th {\n",
       "        text-align: right;\n",
       "    }\n",
       "</style>\n",
       "<table border=\"1\" class=\"dataframe\">\n",
       "  <thead>\n",
       "    <tr style=\"text-align: right;\">\n",
       "      <th></th>\n",
       "      <th>id</th>\n",
       "      <th>mostLiquidTokens</th>\n",
       "      <th>pairCount</th>\n",
       "      <th>totalVolumeUSD</th>\n",
       "    </tr>\n",
       "  </thead>\n",
       "  <tbody>\n",
       "    <tr>\n",
       "      <th>0</th>\n",
       "      <td>0x5C69bEe701ef814a2B6a3EDD4B1652CB9cc5aA6f</td>\n",
       "      <td>[]</td>\n",
       "      <td>23147</td>\n",
       "      <td>35417018263.02062294114348020249348</td>\n",
       "    </tr>\n",
       "  </tbody>\n",
       "</table>\n",
       "</div>"
      ],
      "text/plain": [
       "                                           id mostLiquidTokens  pairCount  \\\n",
       "0  0x5C69bEe701ef814a2B6a3EDD4B1652CB9cc5aA6f               []      23147   \n",
       "\n",
       "                        totalVolumeUSD  \n",
       "0  35417018263.02062294114348020249348  "
      ]
     },
     "execution_count": 17,
     "metadata": {},
     "output_type": "execute_result"
    }
   ],
   "source": [
    "### convert the data into a pandas dataframe\n",
    "df = pd.DataFrame(data.get('uniswapFactories', []))\n",
    "df"
   ]
  },
  {
   "cell_type": "code",
   "execution_count": 19,
   "metadata": {},
   "outputs": [
    {
     "data": {
      "text/plain": [
       "id                  object\n",
       "mostLiquidTokens    object\n",
       "pairCount            int64\n",
       "totalVolumeUSD      object\n",
       "dtype: object"
      ]
     },
     "execution_count": 19,
     "metadata": {},
     "output_type": "execute_result"
    }
   ],
   "source": [
    "### check the data type\n",
    "df.dtypes"
   ]
  },
  {
   "cell_type": "code",
   "execution_count": 20,
   "metadata": {},
   "outputs": [
    {
     "data": {
      "text/plain": [
       "id                   object\n",
       "mostLiquidTokens     object\n",
       "pairCount             int64\n",
       "totalVolumeUSD      float64\n",
       "dtype: object"
      ]
     },
     "execution_count": 20,
     "metadata": {},
     "output_type": "execute_result"
    }
   ],
   "source": [
    "### change the data type\n",
    "df[\"totalVolumeUSD\"] = df.totalVolumeUSD.astype(float)\n",
    "df.dtypes"
   ]
  }
 ],
 "metadata": {
  "kernelspec": {
   "display_name": "Python 3",
   "language": "python",
   "name": "python3"
  },
  "language_info": {
   "codemirror_mode": {
    "name": "ipython",
    "version": 3
   },
   "file_extension": ".py",
   "mimetype": "text/x-python",
   "name": "python",
   "nbconvert_exporter": "python",
   "pygments_lexer": "ipython3",
   "version": "3.7.4"
  }
 },
 "nbformat": 4,
 "nbformat_minor": 2
}
